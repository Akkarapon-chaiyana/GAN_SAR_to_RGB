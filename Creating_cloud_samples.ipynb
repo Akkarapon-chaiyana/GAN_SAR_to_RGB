{
  "nbformat": 4,
  "nbformat_minor": 0,
  "metadata": {
    "colab": {
      "provenance": []
    },
    "kernelspec": {
      "name": "python3",
      "display_name": "Python 3"
    },
    "language_info": {
      "name": "python"
    }
  },
  "cells": [
    {
      "cell_type": "code",
      "execution_count": null,
      "metadata": {
        "colab": {
          "base_uri": "https://localhost:8080/",
          "height": 34
        },
        "id": "TwEy-0rgD-ZG",
        "outputId": "a6c16a88-88f3-4bec-8bdf-0ca6835a33fd"
      },
      "outputs": [
        {
          "output_type": "stream",
          "name": "stdout",
          "text": [
            "Hello from the Earth Engine servers!\n"
          ]
        }
      ],
      "source": [
        "import ee\n",
        "import geemap\n",
        "import os\n",
        "import random\n",
        "ee.Authenticate()\n",
        "ee.Initialize(project = 'tony-67130749')\n",
        "print(ee.String('Hello from the Earth Engine servers!').getInfo())"
      ]
    },
    {
      "cell_type": "code",
      "source": [
        "import datetime\n",
        "\n",
        "CLEAR_THRESHOLD = 0.80\n",
        "QA_BAND = 'cs_cdf'\n",
        "vis_params = {'bands': ['B4', 'B3', 'B2'], 'min': 64, 'max': 5454, 'gamma': 1.8}\n",
        "\n",
        "# Define ROI (replace with your actual ROI)\n",
        "# ROI = ee.Geometry.Polygon([[[102.0, 15.0], [102.5, 15.0], [102.5, 15.5], [102.0, 15.5], [102.0, 15.0]]])\n",
        "\n",
        "countries = ee.FeatureCollection(\"USDOS/LSIB_SIMPLE/2017\");\n",
        "country_name = \"Cambodia\";\n",
        "\n",
        "ROI = countries.filter(ee.Filter.eq(\"country_na\", country_name));\n",
        "\n",
        "\n",
        "# Correcting the centroid function by specifying a non-zero error margin\n",
        "def download_images(start_date, end_date, interval_days):\n",
        "    # Convert input dates to EE format\n",
        "    start = ee.Date(start_date)\n",
        "    end = ee.Date(end_date)\n",
        "\n",
        "    # Calculate the total number of intervals\n",
        "    diff = end.difference(start, 'day').divide(interval_days).ceil().getInfo()\n",
        "\n",
        "    # Loop through each interval\n",
        "    for i in range(int(diff)):\n",
        "        interval_start = start.advance(i * interval_days, 'day')\n",
        "        interval_end = interval_start.advance(interval_days, 'day')\n",
        "\n",
        "        # Load Sentinel-2 image collection\n",
        "        s2 = ee.ImageCollection(\"COPERNICUS/S2_HARMONIZED\")\\\n",
        "            .filterBounds(ROI)\\\n",
        "            .filterDate(interval_start, interval_end)\\\n",
        "            .sort(\"CLOUDY_PIXEL_PERCENTAGE\")\n",
        "\n",
        "        # Load Cloud Score Plus collection\n",
        "        cs_plus = ee.ImageCollection('GOOGLE/CLOUD_SCORE_PLUS/V1/S2_HARMONIZED')\\\n",
        "            .filterBounds(ROI)\\\n",
        "            .filterDate(interval_start, interval_end)\n",
        "\n",
        "        # Link the collections and apply the mask\n",
        "        def add_cs_band(img):\n",
        "            cs_image = cs_plus.filter(ee.Filter.eq('system:index', img.get('system:index'))).first()\n",
        "            return img.addBands(cs_image.select(QA_BAND))\n",
        "\n",
        "        image_collection = s2.map(add_cs_band)\\\n",
        "                             .map(mask_data)\\\n",
        "                             .select(['B2', 'B3', 'B4', 'B5', 'B6', 'B7', 'B8', 'B8A', 'B11', 'B12'])\n",
        "\n",
        "        # Get the median image to reduce the collection\n",
        "        median_image = image_collection.median().clip(ROI)\n",
        "\n",
        "        # Create a binary image and clip it to the ROI\n",
        "        binary_image = median_image.unmask(0, False).clip(ROI).eq(0)\n",
        "\n",
        "        # Mask the edges to exclude boundary polygons\n",
        "        no_boundary_image = binary_image.updateMask(binary_image.clip(ROI))\n",
        "\n",
        "        # Convert the binary image to polygons\n",
        "        polygons = no_boundary_image.reduceToVectors(\n",
        "            geometryType='polygon',\n",
        "            reducer=ee.Reducer.mean(),  # Correct usage of the reducer\n",
        "            scale=30,\n",
        "            geometry=ROI,  # Use the region of interest geometry\n",
        "            maxPixels=1e13,\n",
        "            labelProperty='label',\n",
        "            bestEffort=True  # Simplifies the result if necessary\n",
        "        )\n",
        "\n",
        "        # Create grid for sampling\n",
        "        grid = polygons.geometry().coveringGrid('EPSG:4326', 5000)\n",
        "\n",
        "        # Specify a small error margin when calculating the centroid\n",
        "        def centroid_with_error_margin(feat):\n",
        "            return feat.centroid(maxError=1)  # Use a non-zero error margin\n",
        "\n",
        "        sample_grid = grid.map(centroid_with_error_margin)\n",
        "\n",
        "        # Print layers to console for visualization (if needed)\n",
        "        print(f\"Sentinel-2 Image Interval {interval_start.format('YYYY-MM-dd').getInfo()} to {interval_end.format('YYYY-MM-dd').getInfo()}\")\n",
        "\n",
        "        # Export the sample grid as an asset for each interval\n",
        "        task = ee.batch.Export.table.toAsset(\n",
        "            collection=sample_grid,\n",
        "            description=f'sample_of_missing_image_{interval_start.format(\"YYYY-MM-dd\").getInfo()}',\n",
        "            assetId=f'projects/tony-67130749/assets/sample_of_missing_image_{interval_start.format(\"YYYY-MM-dd\").getInfo()}'\n",
        "        )\n",
        "        task.start()\n"
      ],
      "metadata": {
        "colab": {
          "base_uri": "https://localhost:8080/",
          "height": 17
        },
        "id": "FHjX13pVEP6U",
        "outputId": "66b1639a-8117-4d8e-eebf-3a1e9b4e11e3"
      },
      "execution_count": null,
      "outputs": [
        {
          "output_type": "display_data",
          "data": {
            "text/plain": [
              "<IPython.core.display.HTML object>"
            ],
            "text/html": [
              "\n",
              "            <style>\n",
              "                .geemap-dark {\n",
              "                    --jp-widgets-color: white;\n",
              "                    --jp-widgets-label-color: white;\n",
              "                    --jp-ui-font-color1: white;\n",
              "                    --jp-layout-color2: #454545;\n",
              "                    background-color: #383838;\n",
              "                }\n",
              "\n",
              "                .geemap-dark .jupyter-button {\n",
              "                    --jp-layout-color3: #383838;\n",
              "                }\n",
              "\n",
              "                .geemap-colab {\n",
              "                    background-color: var(--colab-primary-surface-color, white);\n",
              "                }\n",
              "\n",
              "                .geemap-colab .jupyter-button {\n",
              "                    --jp-layout-color3: var(--colab-primary-surface-color, white);\n",
              "                }\n",
              "            </style>\n",
              "            "
            ]
          },
          "metadata": {}
        }
      ]
    },
    {
      "cell_type": "code",
      "source": [
        "# Call the function to download images\n",
        "download_images('2023-01-01', '2023-01-31', 10)"
      ],
      "metadata": {
        "colab": {
          "base_uri": "https://localhost:8080/",
          "height": 68
        },
        "id": "kmfabCFfEP9J",
        "outputId": "0ef30802-64df-424f-b7dc-ba464c8690f6"
      },
      "execution_count": null,
      "outputs": [
        {
          "output_type": "display_data",
          "data": {
            "text/plain": [
              "<IPython.core.display.HTML object>"
            ],
            "text/html": [
              "\n",
              "            <style>\n",
              "                .geemap-dark {\n",
              "                    --jp-widgets-color: white;\n",
              "                    --jp-widgets-label-color: white;\n",
              "                    --jp-ui-font-color1: white;\n",
              "                    --jp-layout-color2: #454545;\n",
              "                    background-color: #383838;\n",
              "                }\n",
              "\n",
              "                .geemap-dark .jupyter-button {\n",
              "                    --jp-layout-color3: #383838;\n",
              "                }\n",
              "\n",
              "                .geemap-colab {\n",
              "                    background-color: var(--colab-primary-surface-color, white);\n",
              "                }\n",
              "\n",
              "                .geemap-colab .jupyter-button {\n",
              "                    --jp-layout-color3: var(--colab-primary-surface-color, white);\n",
              "                }\n",
              "            </style>\n",
              "            "
            ]
          },
          "metadata": {}
        },
        {
          "output_type": "stream",
          "name": "stdout",
          "text": [
            "Sentinel-2 Image Interval 2023-01-01 to 2023-01-11\n",
            "Sentinel-2 Image Interval 2023-01-11 to 2023-01-21\n",
            "Sentinel-2 Image Interval 2023-01-21 to 2023-01-31\n"
          ]
        }
      ]
    },
    {
      "cell_type": "code",
      "source": [],
      "metadata": {
        "id": "BdRq7cLIEQBX"
      },
      "execution_count": null,
      "outputs": []
    }
  ]
}